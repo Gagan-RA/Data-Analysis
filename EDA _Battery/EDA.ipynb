{
 "cells": [
  {
   "cell_type": "code",
   "execution_count": 1,
   "metadata": {},
   "outputs": [],
   "source": [
    "import pandas as pd\n",
    "import matplotlib.pyplot as plt"
   ]
  },
  {
   "cell_type": "code",
   "execution_count": 2,
   "metadata": {},
   "outputs": [
    {
     "name": "stdout",
     "output_type": "stream",
     "text": [
      "Requirement already satisfied: xlrd in e:\\anaconda\\lib\\site-packages (1.2.0)\n",
      "Note: you may need to restart the kernel to use updated packages.\n"
     ]
    }
   ],
   "source": [
    "pip install xlrd"
   ]
  },
  {
   "cell_type": "code",
   "execution_count": 3,
   "metadata": {
    "scrolled": true
   },
   "outputs": [],
   "source": [
    "df = pd.read_excel(r'Assignment file for Data Analyst.xlsx')"
   ]
  },
  {
   "cell_type": "code",
   "execution_count": 4,
   "metadata": {},
   "outputs": [
    {
     "data": {
      "text/html": [
       "<div>\n",
       "<style scoped>\n",
       "    .dataframe tbody tr th:only-of-type {\n",
       "        vertical-align: middle;\n",
       "    }\n",
       "\n",
       "    .dataframe tbody tr th {\n",
       "        vertical-align: top;\n",
       "    }\n",
       "\n",
       "    .dataframe thead th {\n",
       "        text-align: right;\n",
       "    }\n",
       "</style>\n",
       "<table border=\"1\" class=\"dataframe\">\n",
       "  <thead>\n",
       "    <tr style=\"text-align: right;\">\n",
       "      <th></th>\n",
       "      <th>Timestamp</th>\n",
       "      <th>Current</th>\n",
       "      <th>Total voltage</th>\n",
       "      <th>SOC</th>\n",
       "      <th>Temperature</th>\n",
       "      <th>SOH</th>\n",
       "      <th>Equivalent cycle</th>\n",
       "      <th>Application status</th>\n",
       "      <th>Grid status</th>\n",
       "      <th>Grid power</th>\n",
       "      <th>Grid energy consumption</th>\n",
       "      <th>Grid cumulative energy consumption</th>\n",
       "    </tr>\n",
       "  </thead>\n",
       "  <tbody>\n",
       "    <tr>\n",
       "      <th>0</th>\n",
       "      <td>1556701215000</td>\n",
       "      <td>0</td>\n",
       "      <td>66.72</td>\n",
       "      <td>1.0</td>\n",
       "      <td>25.229167</td>\n",
       "      <td>1.000000</td>\n",
       "      <td>0.0</td>\n",
       "      <td>1</td>\n",
       "      <td>1</td>\n",
       "      <td>0.0</td>\n",
       "      <td>0.0</td>\n",
       "      <td>0.0</td>\n",
       "    </tr>\n",
       "    <tr>\n",
       "      <th>1</th>\n",
       "      <td>1556702215000</td>\n",
       "      <td>0</td>\n",
       "      <td>66.72</td>\n",
       "      <td>1.0</td>\n",
       "      <td>25.528210</td>\n",
       "      <td>0.999774</td>\n",
       "      <td>0.0</td>\n",
       "      <td>1</td>\n",
       "      <td>1</td>\n",
       "      <td>0.0</td>\n",
       "      <td>0.0</td>\n",
       "      <td>0.0</td>\n",
       "    </tr>\n",
       "    <tr>\n",
       "      <th>2</th>\n",
       "      <td>1556703215000</td>\n",
       "      <td>0</td>\n",
       "      <td>66.72</td>\n",
       "      <td>1.0</td>\n",
       "      <td>25.859735</td>\n",
       "      <td>0.999679</td>\n",
       "      <td>0.0</td>\n",
       "      <td>1</td>\n",
       "      <td>1</td>\n",
       "      <td>0.0</td>\n",
       "      <td>0.0</td>\n",
       "      <td>0.0</td>\n",
       "    </tr>\n",
       "    <tr>\n",
       "      <th>3</th>\n",
       "      <td>1556704215000</td>\n",
       "      <td>0</td>\n",
       "      <td>66.72</td>\n",
       "      <td>1.0</td>\n",
       "      <td>26.204830</td>\n",
       "      <td>0.999606</td>\n",
       "      <td>0.0</td>\n",
       "      <td>1</td>\n",
       "      <td>1</td>\n",
       "      <td>0.0</td>\n",
       "      <td>0.0</td>\n",
       "      <td>0.0</td>\n",
       "    </tr>\n",
       "    <tr>\n",
       "      <th>4</th>\n",
       "      <td>1556705215000</td>\n",
       "      <td>0</td>\n",
       "      <td>66.72</td>\n",
       "      <td>1.0</td>\n",
       "      <td>26.553448</td>\n",
       "      <td>0.999542</td>\n",
       "      <td>0.0</td>\n",
       "      <td>1</td>\n",
       "      <td>1</td>\n",
       "      <td>0.0</td>\n",
       "      <td>0.0</td>\n",
       "      <td>0.0</td>\n",
       "    </tr>\n",
       "  </tbody>\n",
       "</table>\n",
       "</div>"
      ],
      "text/plain": [
       "       Timestamp  Current  Total voltage  SOC  Temperature       SOH  \\\n",
       "0  1556701215000        0          66.72  1.0    25.229167  1.000000   \n",
       "1  1556702215000        0          66.72  1.0    25.528210  0.999774   \n",
       "2  1556703215000        0          66.72  1.0    25.859735  0.999679   \n",
       "3  1556704215000        0          66.72  1.0    26.204830  0.999606   \n",
       "4  1556705215000        0          66.72  1.0    26.553448  0.999542   \n",
       "\n",
       "   Equivalent cycle  Application status  Grid status  Grid power  \\\n",
       "0               0.0                   1            1         0.0   \n",
       "1               0.0                   1            1         0.0   \n",
       "2               0.0                   1            1         0.0   \n",
       "3               0.0                   1            1         0.0   \n",
       "4               0.0                   1            1         0.0   \n",
       "\n",
       "   Grid energy consumption  Grid cumulative energy consumption  \n",
       "0                      0.0                                 0.0  \n",
       "1                      0.0                                 0.0  \n",
       "2                      0.0                                 0.0  \n",
       "3                      0.0                                 0.0  \n",
       "4                      0.0                                 0.0  "
      ]
     },
     "execution_count": 4,
     "metadata": {},
     "output_type": "execute_result"
    }
   ],
   "source": [
    "df = pd.DataFrame(df)\n",
    "df.head()\n"
   ]
  },
  {
   "cell_type": "code",
   "execution_count": 6,
   "metadata": {},
   "outputs": [
    {
     "data": {
      "text/html": [
       "<div>\n",
       "<style scoped>\n",
       "    .dataframe tbody tr th:only-of-type {\n",
       "        vertical-align: middle;\n",
       "    }\n",
       "\n",
       "    .dataframe tbody tr th {\n",
       "        vertical-align: top;\n",
       "    }\n",
       "\n",
       "    .dataframe thead th {\n",
       "        text-align: right;\n",
       "    }\n",
       "</style>\n",
       "<table border=\"1\" class=\"dataframe\">\n",
       "  <thead>\n",
       "    <tr style=\"text-align: right;\">\n",
       "      <th></th>\n",
       "      <th>Timestamp</th>\n",
       "      <th>Current</th>\n",
       "      <th>Total voltage</th>\n",
       "      <th>SOC</th>\n",
       "      <th>Temperature</th>\n",
       "      <th>SOH</th>\n",
       "      <th>Equivalent cycle</th>\n",
       "      <th>Application status</th>\n",
       "      <th>Grid status</th>\n",
       "      <th>Grid power</th>\n",
       "      <th>Grid energy consumption</th>\n",
       "      <th>Grid cumulative energy consumption</th>\n",
       "    </tr>\n",
       "  </thead>\n",
       "  <tbody>\n",
       "    <tr>\n",
       "      <th>0</th>\n",
       "      <td>2019-05-01 09:00:15</td>\n",
       "      <td>0</td>\n",
       "      <td>66.72</td>\n",
       "      <td>1.0</td>\n",
       "      <td>25.229167</td>\n",
       "      <td>1.000000</td>\n",
       "      <td>0.0</td>\n",
       "      <td>1</td>\n",
       "      <td>1</td>\n",
       "      <td>0.0</td>\n",
       "      <td>0.0</td>\n",
       "      <td>0.0</td>\n",
       "    </tr>\n",
       "    <tr>\n",
       "      <th>1</th>\n",
       "      <td>2019-05-01 09:16:55</td>\n",
       "      <td>0</td>\n",
       "      <td>66.72</td>\n",
       "      <td>1.0</td>\n",
       "      <td>25.528210</td>\n",
       "      <td>0.999774</td>\n",
       "      <td>0.0</td>\n",
       "      <td>1</td>\n",
       "      <td>1</td>\n",
       "      <td>0.0</td>\n",
       "      <td>0.0</td>\n",
       "      <td>0.0</td>\n",
       "    </tr>\n",
       "    <tr>\n",
       "      <th>2</th>\n",
       "      <td>2019-05-01 09:33:35</td>\n",
       "      <td>0</td>\n",
       "      <td>66.72</td>\n",
       "      <td>1.0</td>\n",
       "      <td>25.859735</td>\n",
       "      <td>0.999679</td>\n",
       "      <td>0.0</td>\n",
       "      <td>1</td>\n",
       "      <td>1</td>\n",
       "      <td>0.0</td>\n",
       "      <td>0.0</td>\n",
       "      <td>0.0</td>\n",
       "    </tr>\n",
       "    <tr>\n",
       "      <th>3</th>\n",
       "      <td>2019-05-01 09:50:15</td>\n",
       "      <td>0</td>\n",
       "      <td>66.72</td>\n",
       "      <td>1.0</td>\n",
       "      <td>26.204830</td>\n",
       "      <td>0.999606</td>\n",
       "      <td>0.0</td>\n",
       "      <td>1</td>\n",
       "      <td>1</td>\n",
       "      <td>0.0</td>\n",
       "      <td>0.0</td>\n",
       "      <td>0.0</td>\n",
       "    </tr>\n",
       "    <tr>\n",
       "      <th>4</th>\n",
       "      <td>2019-05-01 10:06:55</td>\n",
       "      <td>0</td>\n",
       "      <td>66.72</td>\n",
       "      <td>1.0</td>\n",
       "      <td>26.553448</td>\n",
       "      <td>0.999542</td>\n",
       "      <td>0.0</td>\n",
       "      <td>1</td>\n",
       "      <td>1</td>\n",
       "      <td>0.0</td>\n",
       "      <td>0.0</td>\n",
       "      <td>0.0</td>\n",
       "    </tr>\n",
       "  </tbody>\n",
       "</table>\n",
       "</div>"
      ],
      "text/plain": [
       "            Timestamp  Current  Total voltage  SOC  Temperature       SOH  \\\n",
       "0 2019-05-01 09:00:15        0          66.72  1.0    25.229167  1.000000   \n",
       "1 2019-05-01 09:16:55        0          66.72  1.0    25.528210  0.999774   \n",
       "2 2019-05-01 09:33:35        0          66.72  1.0    25.859735  0.999679   \n",
       "3 2019-05-01 09:50:15        0          66.72  1.0    26.204830  0.999606   \n",
       "4 2019-05-01 10:06:55        0          66.72  1.0    26.553448  0.999542   \n",
       "\n",
       "   Equivalent cycle  Application status  Grid status  Grid power  \\\n",
       "0               0.0                   1            1         0.0   \n",
       "1               0.0                   1            1         0.0   \n",
       "2               0.0                   1            1         0.0   \n",
       "3               0.0                   1            1         0.0   \n",
       "4               0.0                   1            1         0.0   \n",
       "\n",
       "   Grid energy consumption  Grid cumulative energy consumption  \n",
       "0                      0.0                                 0.0  \n",
       "1                      0.0                                 0.0  \n",
       "2                      0.0                                 0.0  \n",
       "3                      0.0                                 0.0  \n",
       "4                      0.0                                 0.0  "
      ]
     },
     "execution_count": 6,
     "metadata": {},
     "output_type": "execute_result"
    }
   ],
   "source": [
    "import time;\n",
    "df['Timestamp'] = pd.to_datetime(df['Timestamp'], unit='ms')\n",
    "#df = df.drop(['date'] , axis = 1)\n",
    "df.head()"
   ]
  },
  {
   "cell_type": "code",
   "execution_count": 7,
   "metadata": {},
   "outputs": [
    {
     "data": {
      "text/plain": [
       "pandas.core.frame.DataFrame"
      ]
     },
     "execution_count": 7,
     "metadata": {},
     "output_type": "execute_result"
    }
   ],
   "source": [
    "type(df)"
   ]
  },
  {
   "cell_type": "code",
   "execution_count": 8,
   "metadata": {},
   "outputs": [
    {
     "data": {
      "text/plain": [
       "Timestamp                             datetime64[ns]\n",
       "Current                                        int64\n",
       "Total voltage                                float64\n",
       "SOC                                          float64\n",
       "Temperature                                  float64\n",
       "SOH                                          float64\n",
       "Equivalent cycle                             float64\n",
       "Application status                             int64\n",
       "Grid status                                    int64\n",
       "Grid power                                   float64\n",
       "Grid energy consumption                      float64\n",
       "Grid cumulative energy consumption           float64\n",
       "dtype: object"
      ]
     },
     "execution_count": 8,
     "metadata": {},
     "output_type": "execute_result"
    }
   ],
   "source": [
    "df.dtypes"
   ]
  },
  {
   "cell_type": "code",
   "execution_count": 9,
   "metadata": {},
   "outputs": [
    {
     "data": {
      "text/html": [
       "<div>\n",
       "<style scoped>\n",
       "    .dataframe tbody tr th:only-of-type {\n",
       "        vertical-align: middle;\n",
       "    }\n",
       "\n",
       "    .dataframe tbody tr th {\n",
       "        vertical-align: top;\n",
       "    }\n",
       "\n",
       "    .dataframe thead th {\n",
       "        text-align: right;\n",
       "    }\n",
       "</style>\n",
       "<table border=\"1\" class=\"dataframe\">\n",
       "  <thead>\n",
       "    <tr style=\"text-align: right;\">\n",
       "      <th></th>\n",
       "      <th>Current</th>\n",
       "      <th>Total voltage</th>\n",
       "      <th>SOC</th>\n",
       "      <th>Temperature</th>\n",
       "      <th>SOH</th>\n",
       "      <th>Equivalent cycle</th>\n",
       "      <th>Application status</th>\n",
       "      <th>Grid status</th>\n",
       "      <th>Grid power</th>\n",
       "      <th>Grid energy consumption</th>\n",
       "      <th>Grid cumulative energy consumption</th>\n",
       "    </tr>\n",
       "  </thead>\n",
       "  <tbody>\n",
       "    <tr>\n",
       "      <th>count</th>\n",
       "      <td>31104.000000</td>\n",
       "      <td>31104.000000</td>\n",
       "      <td>31104.000000</td>\n",
       "      <td>31104.000000</td>\n",
       "      <td>31104.000000</td>\n",
       "      <td>31104.000000</td>\n",
       "      <td>31104.000000</td>\n",
       "      <td>31104.000000</td>\n",
       "      <td>31104.000000</td>\n",
       "      <td>31104.000000</td>\n",
       "      <td>3.110400e+04</td>\n",
       "    </tr>\n",
       "    <tr>\n",
       "      <th>mean</th>\n",
       "      <td>-0.003858</td>\n",
       "      <td>64.272196</td>\n",
       "      <td>0.828945</td>\n",
       "      <td>27.915732</td>\n",
       "      <td>0.948226</td>\n",
       "      <td>52.563840</td>\n",
       "      <td>0.999968</td>\n",
       "      <td>0.988137</td>\n",
       "      <td>221.494578</td>\n",
       "      <td>61.526272</td>\n",
       "      <td>9.442240e+05</td>\n",
       "    </tr>\n",
       "    <tr>\n",
       "      <th>std</th>\n",
       "      <td>33.170852</td>\n",
       "      <td>1.918436</td>\n",
       "      <td>0.134033</td>\n",
       "      <td>13.308070</td>\n",
       "      <td>0.019635</td>\n",
       "      <td>31.301743</td>\n",
       "      <td>0.005670</td>\n",
       "      <td>0.108273</td>\n",
       "      <td>299.129090</td>\n",
       "      <td>83.091414</td>\n",
       "      <td>5.556151e+05</td>\n",
       "    </tr>\n",
       "    <tr>\n",
       "      <th>min</th>\n",
       "      <td>-300.000000</td>\n",
       "      <td>48.160346</td>\n",
       "      <td>-0.155714</td>\n",
       "      <td>20.263275</td>\n",
       "      <td>0.919398</td>\n",
       "      <td>0.000000</td>\n",
       "      <td>0.000000</td>\n",
       "      <td>0.000000</td>\n",
       "      <td>0.000000</td>\n",
       "      <td>0.000000</td>\n",
       "      <td>0.000000e+00</td>\n",
       "    </tr>\n",
       "    <tr>\n",
       "      <th>25%</th>\n",
       "      <td>0.000000</td>\n",
       "      <td>63.700213</td>\n",
       "      <td>0.781742</td>\n",
       "      <td>22.272948</td>\n",
       "      <td>0.932068</td>\n",
       "      <td>24.438458</td>\n",
       "      <td>1.000000</td>\n",
       "      <td>1.000000</td>\n",
       "      <td>0.000000</td>\n",
       "      <td>0.000000</td>\n",
       "      <td>4.466059e+05</td>\n",
       "    </tr>\n",
       "    <tr>\n",
       "      <th>50%</th>\n",
       "      <td>0.000000</td>\n",
       "      <td>65.299735</td>\n",
       "      <td>0.901914</td>\n",
       "      <td>26.060848</td>\n",
       "      <td>0.945187</td>\n",
       "      <td>52.499507</td>\n",
       "      <td>1.000000</td>\n",
       "      <td>1.000000</td>\n",
       "      <td>0.000000</td>\n",
       "      <td>0.000000</td>\n",
       "      <td>9.466569e+05</td>\n",
       "    </tr>\n",
       "    <tr>\n",
       "      <th>75%</th>\n",
       "      <td>10.000000</td>\n",
       "      <td>65.344541</td>\n",
       "      <td>0.905029</td>\n",
       "      <td>29.523420</td>\n",
       "      <td>0.963154</td>\n",
       "      <td>77.241660</td>\n",
       "      <td>1.000000</td>\n",
       "      <td>1.000000</td>\n",
       "      <td>617.410545</td>\n",
       "      <td>171.502929</td>\n",
       "      <td>1.386711e+06</td>\n",
       "    </tr>\n",
       "    <tr>\n",
       "      <th>max</th>\n",
       "      <td>10.000000</td>\n",
       "      <td>66.720000</td>\n",
       "      <td>1.000000</td>\n",
       "      <td>136.118156</td>\n",
       "      <td>1.000000</td>\n",
       "      <td>107.847718</td>\n",
       "      <td>1.000000</td>\n",
       "      <td>1.000000</td>\n",
       "      <td>654.014349</td>\n",
       "      <td>181.670653</td>\n",
       "      <td>1.913713e+06</td>\n",
       "    </tr>\n",
       "  </tbody>\n",
       "</table>\n",
       "</div>"
      ],
      "text/plain": [
       "            Current  Total voltage           SOC   Temperature           SOH  \\\n",
       "count  31104.000000   31104.000000  31104.000000  31104.000000  31104.000000   \n",
       "mean      -0.003858      64.272196      0.828945     27.915732      0.948226   \n",
       "std       33.170852       1.918436      0.134033     13.308070      0.019635   \n",
       "min     -300.000000      48.160346     -0.155714     20.263275      0.919398   \n",
       "25%        0.000000      63.700213      0.781742     22.272948      0.932068   \n",
       "50%        0.000000      65.299735      0.901914     26.060848      0.945187   \n",
       "75%       10.000000      65.344541      0.905029     29.523420      0.963154   \n",
       "max       10.000000      66.720000      1.000000    136.118156      1.000000   \n",
       "\n",
       "       Equivalent cycle  Application status   Grid status    Grid power  \\\n",
       "count      31104.000000        31104.000000  31104.000000  31104.000000   \n",
       "mean          52.563840            0.999968      0.988137    221.494578   \n",
       "std           31.301743            0.005670      0.108273    299.129090   \n",
       "min            0.000000            0.000000      0.000000      0.000000   \n",
       "25%           24.438458            1.000000      1.000000      0.000000   \n",
       "50%           52.499507            1.000000      1.000000      0.000000   \n",
       "75%           77.241660            1.000000      1.000000    617.410545   \n",
       "max          107.847718            1.000000      1.000000    654.014349   \n",
       "\n",
       "       Grid energy consumption  Grid cumulative energy consumption  \n",
       "count             31104.000000                        3.110400e+04  \n",
       "mean                 61.526272                        9.442240e+05  \n",
       "std                  83.091414                        5.556151e+05  \n",
       "min                   0.000000                        0.000000e+00  \n",
       "25%                   0.000000                        4.466059e+05  \n",
       "50%                   0.000000                        9.466569e+05  \n",
       "75%                 171.502929                        1.386711e+06  \n",
       "max                 181.670653                        1.913713e+06  "
      ]
     },
     "execution_count": 9,
     "metadata": {},
     "output_type": "execute_result"
    }
   ],
   "source": [
    "df.describe()"
   ]
  },
  {
   "cell_type": "code",
   "execution_count": 10,
   "metadata": {
    "scrolled": true
   },
   "outputs": [
    {
     "data": {
      "text/plain": [
       "Text(0, 0.5, 'SOC')"
      ]
     },
     "execution_count": 10,
     "metadata": {},
     "output_type": "execute_result"
    },
    {
     "data": {
      "image/png": "[encoded data removed]",
      "text/plain": [
       "<Figure size 1080x360 with 1 Axes>"
      ]
     },
     "metadata": {
      "needs_background": "light"
     },
     "output_type": "display_data"
    }
   ],
   "source": [
    "plt.figure(figsize = (15, 5)) \n",
    "plt.scatter(df['Grid status'],df['SOC'])\n",
    "plt.xlabel(\"Grid status\")\n",
    "plt.ylabel(\"SOC\")\n",
    "#df['Grid status'].plot(kind = 'hist')\n",
    "#plt.ylim(-10,2)"
   ]
  },
  {
   "cell_type": "code",
   "execution_count": 11,
   "metadata": {},
   "outputs": [
    {
     "data": {
      "text/plain": [
       "<matplotlib.legend.Legend at 0x9b62dd0>"
      ]
     },
     "execution_count": 11,
     "metadata": {},
     "output_type": "execute_result"
    },
    {
     "data": {
      "image/png": "[encoded data removed]",
      "text/plain": [
       "<Figure size 1080x360 with 1 Axes>"
      ]
     },
     "metadata": {
      "needs_background": "light"
     },
     "output_type": "display_data"
    }
   ],
   "source": [
    "plt.figure(figsize = (15,5))\n",
    "plt.plot(df['Grid status'].loc[:1000],label = \"Grid status\")\n",
    "plt.plot(df['SOC'].loc[:1000], label = 'SOC')\n",
    "plt.legend( loc= 'upper right')"
   ]
  },
  {
   "cell_type": "code",
   "execution_count": 12,
   "metadata": {},
   "outputs": [],
   "source": [
    "from scipy.stats import pearsonr,spearmanr"
   ]
  },
  {
   "cell_type": "code",
   "execution_count": 13,
   "metadata": {},
   "outputs": [
    {
     "name": "stdout",
     "output_type": "stream",
     "text": [
      "Pearson's coeff :0.228 \n",
      "Spearman's coeff :0.168\n"
     ]
    }
   ],
   "source": [
    "pcorr,_ = pearsonr(df['Grid status'],df['SOC'])\n",
    "scorr,_ = spearmanr(df['Grid status'],df['SOC'])\n",
    "print(f\"Pearson's coeff :{pcorr:.3f} \\nSpearman's coeff :{scorr:.3f}\")"
   ]
  },
  {
   "cell_type": "code",
   "execution_count": 14,
   "metadata": {},
   "outputs": [],
   "source": [
    "#pip install scipy"
   ]
  },
  {
   "cell_type": "code",
   "execution_count": 15,
   "metadata": {},
   "outputs": [],
   "source": [
    "#pip install --upgrade scipy"
   ]
  },
  {
   "cell_type": "code",
   "execution_count": 16,
   "metadata": {},
   "outputs": [
    {
     "data": {
      "text/plain": [
       "Text(0, 0.5, 'SOH')"
      ]
     },
     "execution_count": 16,
     "metadata": {},
     "output_type": "execute_result"
    },
    {
     "data": {
      "image/png": "[encoded data removed]",
      "text/plain": [
       "<Figure size 1080x360 with 1 Axes>"
      ]
     },
     "metadata": {
      "needs_background": "light"
     },
     "output_type": "display_data"
    }
   ],
   "source": [
    "plt.figure(figsize = (15,5))\n",
    "plt.scatter(df['Equivalent cycle'],df['SOH'])\n",
    "plt.xlabel(\"Equivalent cycle\")\n",
    "plt.ylabel(\"SOH\")"
   ]
  },
  {
   "cell_type": "code",
   "execution_count": 17,
   "metadata": {},
   "outputs": [
    {
     "data": {
      "image/png": "[encoded data removed]",
      "text/plain": [
       "<Figure size 1080x360 with 2 Axes>"
      ]
     },
     "metadata": {
      "needs_background": "light"
     },
     "output_type": "display_data"
    }
   ],
   "source": [
    "fig,ax1 = plt.subplots(figsize= (15,5))\n",
    "ax1.plot(df['Equivalent cycle'].loc[::1000] ,label = \"Equivalent cycle\")\n",
    "ax2 = ax1.twinx()\n",
    "ax2.plot(df['SOH'].loc[::1000], label = 'SOH' , color = 'red')\n",
    "fig.tight_layout()\n",
    "fig.legend( loc= 'upper right')\n",
    "plt.show()"
   ]
  },
  {
   "cell_type": "code",
   "execution_count": 18,
   "metadata": {},
   "outputs": [
    {
     "name": "stdout",
     "output_type": "stream",
     "text": [
      "Pearson's coeff :-0.984 \n",
      "Spearman's coeff :-1.000\n"
     ]
    }
   ],
   "source": [
    "apcorr,_ = pearsonr(df['Equivalent cycle'],df['SOH'])\n",
    "ascorr,_ = spearmanr(df['Equivalent cycle'],df['SOH'])\n",
    "print(f\"Pearson's coeff :{apcorr:.3f} \\nSpearman's coeff :{ascorr:.3f}\")"
   ]
  },
  {
   "cell_type": "code",
   "execution_count": 19,
   "metadata": {},
   "outputs": [
    {
     "data": {
      "text/plain": [
       "Text(0, 0.5, 'Temperature')"
      ]
     },
     "execution_count": 19,
     "metadata": {},
     "output_type": "execute_result"
    },
    {
     "data": {
      "image/png": "[encoded data removed]",
      "text/plain": [
       "<Figure size 1080x360 with 1 Axes>"
      ]
     },
     "metadata": {
      "needs_background": "light"
     },
     "output_type": "display_data"
    }
   ],
   "source": [
    "plt.figure(figsize = (15,5))\n",
    "plt.scatter(df['SOC'],df['Temperature'])\n",
    "plt.xlabel(\"SOC\")\n",
    "plt.ylabel(\"Temperature\")"
   ]
  },
  {
   "cell_type": "code",
   "execution_count": 20,
   "metadata": {},
   "outputs": [
    {
     "name": "stdout",
     "output_type": "stream",
     "text": [
      "Pearson's coeff :-0.369 \n",
      "Spearman's coeff :-0.207\n"
     ]
    }
   ],
   "source": [
    "bpcorr,_ = pearsonr(df['Temperature'],df['SOC'])\n",
    "bscorr,_ = spearmanr(df['Temperature'],df['SOC'])\n",
    "print(f\"Pearson's coeff :{bpcorr:.3f} \\nSpearman's coeff :{bscorr:.3f}\")"
   ]
  },
  {
   "cell_type": "code",
   "execution_count": 21,
   "metadata": {},
   "outputs": [
    {
     "data": {
      "text/html": [
       "<div>\n",
       "<style scoped>\n",
       "    .dataframe tbody tr th:only-of-type {\n",
       "        vertical-align: middle;\n",
       "    }\n",
       "\n",
       "    .dataframe tbody tr th {\n",
       "        vertical-align: top;\n",
       "    }\n",
       "\n",
       "    .dataframe thead th {\n",
       "        text-align: right;\n",
       "    }\n",
       "</style>\n",
       "<table border=\"1\" class=\"dataframe\">\n",
       "  <thead>\n",
       "    <tr style=\"text-align: right;\">\n",
       "      <th></th>\n",
       "      <th>Current</th>\n",
       "      <th>Total voltage</th>\n",
       "      <th>SOC</th>\n",
       "      <th>Temperature</th>\n",
       "      <th>SOH</th>\n",
       "      <th>Equivalent cycle</th>\n",
       "      <th>Application status</th>\n",
       "      <th>Grid status</th>\n",
       "      <th>Grid power</th>\n",
       "      <th>Grid energy consumption</th>\n",
       "      <th>Grid cumulative energy consumption</th>\n",
       "    </tr>\n",
       "  </thead>\n",
       "  <tbody>\n",
       "    <tr>\n",
       "      <th>Current</th>\n",
       "      <td>1.000000e+00</td>\n",
       "      <td>0.078020</td>\n",
       "      <td>0.120857</td>\n",
       "      <td>-0.818921</td>\n",
       "      <td>-0.000564</td>\n",
       "      <td>0.000640</td>\n",
       "      <td>-6.594991e-07</td>\n",
       "      <td>0.988289</td>\n",
       "      <td>0.223321</td>\n",
       "      <td>0.223321</td>\n",
       "      <td>0.000884</td>\n",
       "    </tr>\n",
       "    <tr>\n",
       "      <th>Total voltage</th>\n",
       "      <td>7.802047e-02</td>\n",
       "      <td>1.000000</td>\n",
       "      <td>0.996240</td>\n",
       "      <td>-0.326546</td>\n",
       "      <td>0.054130</td>\n",
       "      <td>-0.053510</td>\n",
       "      <td>4.762158e-02</td>\n",
       "      <td>0.184622</td>\n",
       "      <td>-0.666429</td>\n",
       "      <td>-0.666429</td>\n",
       "      <td>-0.051234</td>\n",
       "    </tr>\n",
       "    <tr>\n",
       "      <th>SOC</th>\n",
       "      <td>1.208567e-01</td>\n",
       "      <td>0.996240</td>\n",
       "      <td>1.000000</td>\n",
       "      <td>-0.369040</td>\n",
       "      <td>0.054005</td>\n",
       "      <td>-0.053320</td>\n",
       "      <td>3.531014e-02</td>\n",
       "      <td>0.227947</td>\n",
       "      <td>-0.668910</td>\n",
       "      <td>-0.668910</td>\n",
       "      <td>-0.051038</td>\n",
       "    </tr>\n",
       "    <tr>\n",
       "      <th>Temperature</th>\n",
       "      <td>-8.189212e-01</td>\n",
       "      <td>-0.326546</td>\n",
       "      <td>-0.369040</td>\n",
       "      <td>1.000000</td>\n",
       "      <td>0.003684</td>\n",
       "      <td>-0.004896</td>\n",
       "      <td>1.668334e-03</td>\n",
       "      <td>-0.845026</td>\n",
       "      <td>0.054698</td>\n",
       "      <td>0.054698</td>\n",
       "      <td>-0.005666</td>\n",
       "    </tr>\n",
       "    <tr>\n",
       "      <th>SOH</th>\n",
       "      <td>-5.643790e-04</td>\n",
       "      <td>0.054130</td>\n",
       "      <td>0.054005</td>\n",
       "      <td>0.003684</td>\n",
       "      <td>1.000000</td>\n",
       "      <td>-0.984262</td>\n",
       "      <td>6.455398e-03</td>\n",
       "      <td>0.003190</td>\n",
       "      <td>-0.021221</td>\n",
       "      <td>-0.021221</td>\n",
       "      <td>-0.985855</td>\n",
       "    </tr>\n",
       "    <tr>\n",
       "      <th>Equivalent cycle</th>\n",
       "      <td>6.402455e-04</td>\n",
       "      <td>-0.053510</td>\n",
       "      <td>-0.053320</td>\n",
       "      <td>-0.004896</td>\n",
       "      <td>-0.984262</td>\n",
       "      <td>1.000000</td>\n",
       "      <td>-7.205035e-03</td>\n",
       "      <td>-0.002752</td>\n",
       "      <td>0.018367</td>\n",
       "      <td>0.018367</td>\n",
       "      <td>0.999942</td>\n",
       "    </tr>\n",
       "    <tr>\n",
       "      <th>Application status</th>\n",
       "      <td>-6.594991e-07</td>\n",
       "      <td>0.047622</td>\n",
       "      <td>0.035310</td>\n",
       "      <td>0.001668</td>\n",
       "      <td>0.006455</td>\n",
       "      <td>-0.007205</td>\n",
       "      <td>1.000000e+00</td>\n",
       "      <td>0.051749</td>\n",
       "      <td>0.004199</td>\n",
       "      <td>0.004199</td>\n",
       "      <td>-0.007083</td>\n",
       "    </tr>\n",
       "    <tr>\n",
       "      <th>Grid status</th>\n",
       "      <td>9.882892e-01</td>\n",
       "      <td>0.184622</td>\n",
       "      <td>0.227947</td>\n",
       "      <td>-0.845026</td>\n",
       "      <td>0.003190</td>\n",
       "      <td>-0.002752</td>\n",
       "      <td>5.174904e-02</td>\n",
       "      <td>1.000000</td>\n",
       "      <td>0.081135</td>\n",
       "      <td>0.081135</td>\n",
       "      <td>-0.002278</td>\n",
       "    </tr>\n",
       "    <tr>\n",
       "      <th>Grid power</th>\n",
       "      <td>2.233209e-01</td>\n",
       "      <td>-0.666429</td>\n",
       "      <td>-0.668910</td>\n",
       "      <td>0.054698</td>\n",
       "      <td>-0.021221</td>\n",
       "      <td>0.018367</td>\n",
       "      <td>4.198656e-03</td>\n",
       "      <td>0.081135</td>\n",
       "      <td>1.000000</td>\n",
       "      <td>1.000000</td>\n",
       "      <td>0.016952</td>\n",
       "    </tr>\n",
       "    <tr>\n",
       "      <th>Grid energy consumption</th>\n",
       "      <td>2.233209e-01</td>\n",
       "      <td>-0.666429</td>\n",
       "      <td>-0.668910</td>\n",
       "      <td>0.054698</td>\n",
       "      <td>-0.021221</td>\n",
       "      <td>0.018367</td>\n",
       "      <td>4.198656e-03</td>\n",
       "      <td>0.081135</td>\n",
       "      <td>1.000000</td>\n",
       "      <td>1.000000</td>\n",
       "      <td>0.016952</td>\n",
       "    </tr>\n",
       "    <tr>\n",
       "      <th>Grid cumulative energy consumption</th>\n",
       "      <td>8.838689e-04</td>\n",
       "      <td>-0.051234</td>\n",
       "      <td>-0.051038</td>\n",
       "      <td>-0.005666</td>\n",
       "      <td>-0.985855</td>\n",
       "      <td>0.999942</td>\n",
       "      <td>-7.083047e-03</td>\n",
       "      <td>-0.002278</td>\n",
       "      <td>0.016952</td>\n",
       "      <td>0.016952</td>\n",
       "      <td>1.000000</td>\n",
       "    </tr>\n",
       "  </tbody>\n",
       "</table>\n",
       "</div>"
      ],
      "text/plain": [
       "                                         Current  Total voltage       SOC  \\\n",
       "Current                             1.000000e+00       0.078020  0.120857   \n",
       "Total voltage                       7.802047e-02       1.000000  0.996240   \n",
       "SOC                                 1.208567e-01       0.996240  1.000000   \n",
       "Temperature                        -8.189212e-01      -0.326546 -0.369040   \n",
       "SOH                                -5.643790e-04       0.054130  0.054005   \n",
       "Equivalent cycle                    6.402455e-04      -0.053510 -0.053320   \n",
       "Application status                 -6.594991e-07       0.047622  0.035310   \n",
       "Grid status                         9.882892e-01       0.184622  0.227947   \n",
       "Grid power                          2.233209e-01      -0.666429 -0.668910   \n",
       "Grid energy consumption             2.233209e-01      -0.666429 -0.668910   \n",
       "Grid cumulative energy consumption  8.838689e-04      -0.051234 -0.051038   \n",
       "\n",
       "                                    Temperature       SOH  Equivalent cycle  \\\n",
       "Current                               -0.818921 -0.000564          0.000640   \n",
       "Total voltage                         -0.326546  0.054130         -0.053510   \n",
       "SOC                                   -0.369040  0.054005         -0.053320   \n",
       "Temperature                            1.000000  0.003684         -0.004896   \n",
       "SOH                                    0.003684  1.000000         -0.984262   \n",
       "Equivalent cycle                      -0.004896 -0.984262          1.000000   \n",
       "Application status                     0.001668  0.006455         -0.007205   \n",
       "Grid status                           -0.845026  0.003190         -0.002752   \n",
       "Grid power                             0.054698 -0.021221          0.018367   \n",
       "Grid energy consumption                0.054698 -0.021221          0.018367   \n",
       "Grid cumulative energy consumption    -0.005666 -0.985855          0.999942   \n",
       "\n",
       "                                    Application status  Grid status  \\\n",
       "Current                                  -6.594991e-07     0.988289   \n",
       "Total voltage                             4.762158e-02     0.184622   \n",
       "SOC                                       3.531014e-02     0.227947   \n",
       "Temperature                               1.668334e-03    -0.845026   \n",
       "SOH                                       6.455398e-03     0.003190   \n",
       "Equivalent cycle                         -7.205035e-03    -0.002752   \n",
       "Application status                        1.000000e+00     0.051749   \n",
       "Grid status                               5.174904e-02     1.000000   \n",
       "Grid power                                4.198656e-03     0.081135   \n",
       "Grid energy consumption                   4.198656e-03     0.081135   \n",
       "Grid cumulative energy consumption       -7.083047e-03    -0.002278   \n",
       "\n",
       "                                    Grid power  Grid energy consumption  \\\n",
       "Current                               0.223321                 0.223321   \n",
       "Total voltage                        -0.666429                -0.666429   \n",
       "SOC                                  -0.668910                -0.668910   \n",
       "Temperature                           0.054698                 0.054698   \n",
       "SOH                                  -0.021221                -0.021221   \n",
       "Equivalent cycle                      0.018367                 0.018367   \n",
       "Application status                    0.004199                 0.004199   \n",
       "Grid status                           0.081135                 0.081135   \n",
       "Grid power                            1.000000                 1.000000   \n",
       "Grid energy consumption               1.000000                 1.000000   \n",
       "Grid cumulative energy consumption    0.016952                 0.016952   \n",
       "\n",
       "                                    Grid cumulative energy consumption  \n",
       "Current                                                       0.000884  \n",
       "Total voltage                                                -0.051234  \n",
       "SOC                                                          -0.051038  \n",
       "Temperature                                                  -0.005666  \n",
       "SOH                                                          -0.985855  \n",
       "Equivalent cycle                                              0.999942  \n",
       "Application status                                           -0.007083  \n",
       "Grid status                                                  -0.002278  \n",
       "Grid power                                                    0.016952  \n",
       "Grid energy consumption                                       0.016952  \n",
       "Grid cumulative energy consumption                            1.000000  "
      ]
     },
     "execution_count": 21,
     "metadata": {},
     "output_type": "execute_result"
    }
   ],
   "source": [
    "df.corr()"
   ]
  }
 ],
 "metadata": {
  "kernelspec": {
   "display_name": "Python 3",
   "language": "python",
   "name": "python3"
  },
  "language_info": {
   "codemirror_mode": {
    "name": "ipython",
    "version": 3
   },
   "file_extension": ".py",
   "mimetype": "text/x-python",
   "name": "python",
   "nbconvert_exporter": "python",
   "pygments_lexer": "ipython3",
   "version": "3.6.8"
  }
 },
 "nbformat": 4,
 "nbformat_minor": 2
}
